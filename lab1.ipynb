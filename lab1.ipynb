{
 "cells": [
  {
   "cell_type": "code",
   "execution_count": 1,
   "id": "initial_id",
   "metadata": {
    "collapsed": true,
    "ExecuteTime": {
     "end_time": "2024-02-21T00:07:50.870583Z",
     "start_time": "2024-02-21T00:07:49.660880Z"
    }
   },
   "outputs": [
    {
     "ename": "ValueError",
     "evalue": "could not broadcast input array from shape (8,) into shape (2,4)",
     "output_type": "error",
     "traceback": [
      "\u001B[0;31m---------------------------------------------------------------------------\u001B[0m",
      "\u001B[0;31mValueError\u001B[0m                                Traceback (most recent call last)",
      "Cell \u001B[0;32mIn[1], line 2\u001B[0m\n\u001B[1;32m      1\u001B[0m \u001B[38;5;28;01mimport\u001B[39;00m \u001B[38;5;21;01mnumpy\u001B[39;00m \u001B[38;5;28;01mas\u001B[39;00m \u001B[38;5;21;01mnp\u001B[39;00m\n\u001B[0;32m----> 2\u001B[0m myArray \u001B[38;5;241m=\u001B[39m np\u001B[38;5;241m.\u001B[39mfull((\u001B[38;5;241m2\u001B[39m,\u001B[38;5;241m4\u001B[39m), \u001B[38;5;28mrange\u001B[39m(\u001B[38;5;241m11\u001B[39m,\u001B[38;5;241m19\u001B[39m))\n\u001B[1;32m      3\u001B[0m \u001B[38;5;28mprint\u001B[39m(myArray)\n",
      "File \u001B[0;32m~/miniconda3/lib/python3.11/site-packages/numpy/core/numeric.py:330\u001B[0m, in \u001B[0;36mfull\u001B[0;34m(shape, fill_value, dtype, order, like)\u001B[0m\n\u001B[1;32m    328\u001B[0m     dtype \u001B[38;5;241m=\u001B[39m fill_value\u001B[38;5;241m.\u001B[39mdtype\n\u001B[1;32m    329\u001B[0m a \u001B[38;5;241m=\u001B[39m empty(shape, dtype, order)\n\u001B[0;32m--> 330\u001B[0m multiarray\u001B[38;5;241m.\u001B[39mcopyto(a, fill_value, casting\u001B[38;5;241m=\u001B[39m\u001B[38;5;124m'\u001B[39m\u001B[38;5;124munsafe\u001B[39m\u001B[38;5;124m'\u001B[39m)\n\u001B[1;32m    331\u001B[0m \u001B[38;5;28;01mreturn\u001B[39;00m a\n",
      "\u001B[0;31mValueError\u001B[0m: could not broadcast input array from shape (8,) into shape (2,4)"
     ]
    }
   ],
   "source": [
    "import numpy as np\n",
    "myArray = np.full((2,4), range(11,19))\n",
    "print(myArray)"
   ]
  },
  {
   "cell_type": "code",
   "outputs": [
    {
     "name": "stdout",
     "output_type": "stream",
     "text": [
      "[[11 12 13 14]\n",
      " [15 16 17 18]]\n"
     ]
    }
   ],
   "source": [
    "myArray = np.array([range(i, i+4) for i in [11,15]])\n",
    "print(myArray)"
   ],
   "metadata": {
    "collapsed": false,
    "ExecuteTime": {
     "end_time": "2024-02-21T00:09:49.494366Z",
     "start_time": "2024-02-21T00:09:49.458962Z"
    }
   },
   "id": "6e15a2a0f5e39185",
   "execution_count": 2
  },
  {
   "cell_type": "code",
   "outputs": [
    {
     "name": "stdout",
     "output_type": "stream",
     "text": [
      "[[0. 0. 0.]\n",
      " [0. 0. 0.]\n",
      " [0. 0. 0.]\n",
      " [0. 0. 0.]]\n"
     ]
    }
   ],
   "source": [
    "zerosArray = np.zeros((4,3))\n",
    "print(zerosArray)"
   ],
   "metadata": {
    "collapsed": false,
    "ExecuteTime": {
     "end_time": "2024-02-21T00:10:42.734342Z",
     "start_time": "2024-02-21T00:10:42.709199Z"
    }
   },
   "id": "e7c9238fd6b692c0",
   "execution_count": 3
  },
  {
   "cell_type": "code",
   "outputs": [
    {
     "name": "stdout",
     "output_type": "stream",
     "text": [
      "[[1. 1. 1. 1.]\n",
      " [1. 1. 1. 1.]\n",
      " [1. 1. 1. 1.]]\n"
     ]
    }
   ],
   "source": [
    "onesArray = np.ones((3,4))\n",
    "print(onesArray)"
   ],
   "metadata": {
    "collapsed": false,
    "ExecuteTime": {
     "end_time": "2024-02-21T00:11:36.766034Z",
     "start_time": "2024-02-21T00:11:36.722244Z"
    }
   },
   "id": "2e709fe6d8c012c7",
   "execution_count": 4
  },
  {
   "cell_type": "code",
   "outputs": [
    {
     "name": "stdout",
     "output_type": "stream",
     "text": [
      "[ 4  5  6  7  8  9 10 11 12 13]\n"
     ]
    }
   ],
   "source": [
    "arrayZero = np.arange(4,14)\n",
    "print(arrayZero)"
   ],
   "metadata": {
    "collapsed": false,
    "ExecuteTime": {
     "end_time": "2024-02-21T00:12:43.514229Z",
     "start_time": "2024-02-21T00:12:43.499614Z"
    }
   },
   "id": "d2f3b61248a7a5c7",
   "execution_count": 5
  },
  {
   "cell_type": "code",
   "outputs": [
    {
     "name": "stdout",
     "output_type": "stream",
     "text": [
      "[0.  1.5 3.  4.5]\n"
     ]
    }
   ],
   "source": [
    "arrayOne = np.arange(0,5,1.5, dtype = float)\n",
    "print(arrayOne)"
   ],
   "metadata": {
    "collapsed": false,
    "ExecuteTime": {
     "end_time": "2024-02-21T00:14:38.485368Z",
     "start_time": "2024-02-21T00:14:38.456399Z"
    }
   },
   "id": "c04106fd3619ebf7",
   "execution_count": 9
  },
  {
   "cell_type": "code",
   "outputs": [
    {
     "name": "stdout",
     "output_type": "stream",
     "text": [
      "[[4 4]\n",
      " [4 4]]\n"
     ]
    }
   ],
   "source": [
    "arrayTwo = np.full((2,2), 4)\n",
    "print(arrayTwo)"
   ],
   "metadata": {
    "collapsed": false,
    "ExecuteTime": {
     "end_time": "2024-03-01T00:07:11.339065Z",
     "start_time": "2024-03-01T00:07:10.899787Z"
    }
   },
   "id": "7922e1d9c8641c37",
   "execution_count": 2
  },
  {
   "cell_type": "code",
   "outputs": [
    {
     "name": "stdout",
     "output_type": "stream",
     "text": [
      "[[1. 0. 0. 0.]\n",
      " [0. 1. 0. 0.]\n",
      " [0. 0. 1. 0.]\n",
      " [0. 0. 0. 1.]]\n"
     ]
    }
   ],
   "source": [
    "import numpy as np\n",
    "identityMatrix = np.eye(4)\n",
    "print(identityMatrix)"
   ],
   "metadata": {
    "collapsed": false,
    "ExecuteTime": {
     "end_time": "2024-03-01T00:07:32.699999Z",
     "start_time": "2024-03-01T00:07:32.669287Z"
    }
   },
   "id": "e649efb7fd50765b",
   "execution_count": 3
  },
  {
   "cell_type": "code",
   "outputs": [
    {
     "ename": "ValueError",
     "evalue": "Input must be 1- or 2-d.",
     "output_type": "error",
     "traceback": [
      "\u001B[0;31m---------------------------------------------------------------------------\u001B[0m",
      "\u001B[0;31mValueError\u001B[0m                                Traceback (most recent call last)",
      "Cell \u001B[0;32mIn[4], line 1\u001B[0m\n\u001B[0;32m----> 1\u001B[0m diagonalMatrix \u001B[38;5;241m=\u001B[39m np\u001B[38;5;241m.\u001B[39mdiag(\u001B[38;5;241m10\u001B[39m,\u001B[38;5;241m12\u001B[39m)\n\u001B[1;32m      2\u001B[0m \u001B[38;5;28mprint\u001B[39m(diagonalMatrix)\n",
      "File \u001B[0;32m~/miniconda3/lib/python3.11/site-packages/numpy/lib/twodim_base.py:303\u001B[0m, in \u001B[0;36mdiag\u001B[0;34m(v, k)\u001B[0m\n\u001B[1;32m    301\u001B[0m     \u001B[38;5;28;01mreturn\u001B[39;00m diagonal(v, k)\n\u001B[1;32m    302\u001B[0m \u001B[38;5;28;01melse\u001B[39;00m:\n\u001B[0;32m--> 303\u001B[0m     \u001B[38;5;28;01mraise\u001B[39;00m \u001B[38;5;167;01mValueError\u001B[39;00m(\u001B[38;5;124m\"\u001B[39m\u001B[38;5;124mInput must be 1- or 2-d.\u001B[39m\u001B[38;5;124m\"\u001B[39m)\n",
      "\u001B[0;31mValueError\u001B[0m: Input must be 1- or 2-d."
     ]
    }
   ],
   "source": [
    "diagonalMatrix = np.diag(10,12)\n",
    "print(diagonalMatrix)"
   ],
   "metadata": {
    "collapsed": false,
    "ExecuteTime": {
     "end_time": "2024-03-01T00:16:39.400722Z",
     "start_time": "2024-03-01T00:16:39.027565Z"
    }
   },
   "id": "e988c970d5614d9a",
   "execution_count": 4
  },
  {
   "cell_type": "code",
   "outputs": [
    {
     "name": "stdout",
     "output_type": "stream",
     "text": [
      "[[10  0]\n",
      " [ 0 12]]\n"
     ]
    }
   ],
   "source": [
    "diagonalMatrix = np.diag([10,12])\n",
    "print(diagonalMatrix)"
   ],
   "metadata": {
    "collapsed": false,
    "ExecuteTime": {
     "end_time": "2024-03-01T00:18:09.559551Z",
     "start_time": "2024-03-01T00:18:09.517167Z"
    }
   },
   "id": "957623b60c197e11",
   "execution_count": 5
  },
  {
   "cell_type": "code",
   "outputs": [
    {
     "name": "stdout",
     "output_type": "stream",
     "text": [
      "[[5.84378224 6.43514972 9.79233373]\n",
      " [4.39771677 2.36047456 6.67851531]\n",
      " [7.9242505  4.19251159 1.37353141]]\n"
     ]
    }
   ],
   "source": [
    "randomFloats3x3 = np.random.uniform(10, size=(3,3))\n",
    "print(randomFloats3x3)"
   ],
   "metadata": {
    "collapsed": false,
    "ExecuteTime": {
     "end_time": "2024-03-01T00:34:34.598902Z",
     "start_time": "2024-03-01T00:34:34.563565Z"
    }
   },
   "id": "5d3bdf3abaab16b5",
   "execution_count": 12
  },
  {
   "cell_type": "code",
   "outputs": [
    {
     "name": "stdout",
     "output_type": "stream",
     "text": [
      "[[17 12 15]\n",
      " [18 17 17]\n",
      " [12 11 10]]\n"
     ]
    }
   ],
   "source": [
    "randomInts = np.random.randint(10, 21, size=(3,3))\n",
    "print(randomInts)"
   ],
   "metadata": {
    "collapsed": false,
    "ExecuteTime": {
     "end_time": "2024-03-01T00:37:07.709339Z",
     "start_time": "2024-03-01T00:37:07.667107Z"
    }
   },
   "id": "6182852f3f9a8c6f",
   "execution_count": 15
  },
  {
   "cell_type": "code",
   "outputs": [
    {
     "name": "stdout",
     "output_type": "stream",
     "text": [
      "[[11 12]]\n"
     ]
    }
   ],
   "source": [
    "myArray = np.array([[11,12,13],[14,15,16],[17,18,19]])\n",
    "subarray = myArray[:1, :2]\n",
    "print(subarray)"
   ],
   "metadata": {
    "collapsed": false,
    "ExecuteTime": {
     "end_time": "2024-03-01T00:44:16.158716Z",
     "start_time": "2024-03-01T00:44:16.119486Z"
    }
   },
   "id": "d3332b062ea53931",
   "execution_count": 16
  },
  {
   "cell_type": "code",
   "outputs": [
    {
     "name": "stdout",
     "output_type": "stream",
     "text": [
      "[[ 0  0  0]\n",
      " [ 0  0  0]\n",
      " [17 18 19]]\n"
     ]
    }
   ],
   "source": [
    "myArray[:2] = 0\n",
    "print(myArray)"
   ],
   "metadata": {
    "collapsed": false,
    "ExecuteTime": {
     "end_time": "2024-03-01T00:51:18.985076Z",
     "start_time": "2024-03-01T00:51:18.965667Z"
    }
   },
   "id": "559af8285617df05",
   "execution_count": 19
  },
  {
   "cell_type": "code",
   "outputs": [
    {
     "name": "stdout",
     "output_type": "stream",
     "text": [
      "[ 0  1  2  3  4  5  6  7  8  9 10 11 12 13 14 15 16 17 18 19 20]\n"
     ]
    }
   ],
   "source": [
    "toTwenty = np.arange(0,21, 1)\n",
    "print(toTwenty)"
   ],
   "metadata": {
    "collapsed": false,
    "ExecuteTime": {
     "end_time": "2024-03-01T00:51:59.746339Z",
     "start_time": "2024-03-01T00:51:59.705464Z"
    }
   },
   "id": "d4e7ef0c1877bbf5",
   "execution_count": 20
  },
  {
   "cell_type": "code",
   "outputs": [
    {
     "name": "stdout",
     "output_type": "stream",
     "text": [
      "[20 19 18 17 16 15 14 13 12 11 10  9  8  7  6  5  4  3  2  1  0]\n"
     ]
    }
   ],
   "source": [
    "toTwenty = toTwenty[::-1]\n",
    "print(toTwenty)"
   ],
   "metadata": {
    "collapsed": false,
    "ExecuteTime": {
     "end_time": "2024-03-01T00:52:24.753773Z",
     "start_time": "2024-03-01T00:52:24.704937Z"
    }
   },
   "id": "84e3d69a224838a2",
   "execution_count": 21
  },
  {
   "cell_type": "code",
   "outputs": [
    {
     "data": {
      "text/plain": "(2, 3)"
     },
     "execution_count": 22,
     "metadata": {},
     "output_type": "execute_result"
    }
   ],
   "source": [
    "myArray = np.array([[11,12,13], [14,15,16]])\n",
    "myArray.shape"
   ],
   "metadata": {
    "collapsed": false,
    "ExecuteTime": {
     "end_time": "2024-03-01T00:54:36.303367Z",
     "start_time": "2024-03-01T00:54:36.237085Z"
    }
   },
   "id": "f1c930120024949c",
   "execution_count": 22
  },
  {
   "cell_type": "code",
   "outputs": [
    {
     "name": "stdout",
     "output_type": "stream",
     "text": [
      "[[11 12]\n",
      " [13 14]\n",
      " [15 16]]\n"
     ]
    }
   ],
   "source": [
    "myArray = myArray.reshape((3,2))\n",
    "print(myArray)"
   ],
   "metadata": {
    "collapsed": false,
    "ExecuteTime": {
     "end_time": "2024-03-01T00:58:32.070211Z",
     "start_time": "2024-03-01T00:58:32.015157Z"
    }
   },
   "id": "4c262c5bb22ca53b",
   "execution_count": 26
  },
  {
   "cell_type": "code",
   "outputs": [
    {
     "name": "stdout",
     "output_type": "stream",
     "text": [
      "[0 1 2 3 4 5 6 7 8 9]\n",
      "[ 0  1  4  9 16 25 36 49 64 81]\n",
      "[0.         1.         1.41421356 1.73205081 2.         2.23606798\n",
      " 2.44948974 2.64575131 2.82842712 3.        ]\n",
      "[  0.           1.           5.65685425  15.58845727  32.\n",
      "  55.90169944  88.18163074 129.64181424 181.01933598 243.        ]\n"
     ]
    }
   ],
   "source": [
    "myArray = np.arange(10)\n",
    "print(myArray)\n",
    "allSquares = myArray**2\n",
    "allSquareRoots = myArray**(1/2)\n",
    "allSquareProducts = (myArray**2) * (myArray**(1/2)) \n",
    "print(allSquares)\n",
    "print(allSquareRoots)\n",
    "print(allSquareProducts)"
   ],
   "metadata": {
    "collapsed": false,
    "ExecuteTime": {
     "end_time": "2024-03-01T04:01:29.935708Z",
     "start_time": "2024-03-01T04:01:29.906567Z"
    }
   },
   "id": "27d8f6ca319e4317",
   "execution_count": 69
  },
  {
   "cell_type": "code",
   "outputs": [
    {
     "name": "stdout",
     "output_type": "stream",
     "text": [
      "[[11 12 13]\n",
      " [14 15 16]\n",
      " [17 18 19]]\n"
     ]
    }
   ],
   "source": [
    "myArray = np.array([[11,12,13], [14,15,16], [17,18,19]])\n",
    "print(myArray)"
   ],
   "metadata": {
    "collapsed": false,
    "ExecuteTime": {
     "end_time": "2024-03-01T01:00:40.362585Z",
     "start_time": "2024-03-01T01:00:40.349583Z"
    }
   },
   "id": "31174fde1a76e3b1",
   "execution_count": 30
  },
  {
   "cell_type": "code",
   "outputs": [
    {
     "name": "stdout",
     "output_type": "stream",
     "text": [
      "[[11 12 13]\n",
      " [14 15 16]\n",
      " [17 18 19]\n",
      " [20 21 22]]\n"
     ]
    }
   ],
   "source": [
    "combined = np.concatenate([myArray, [[20,21,22]]])\n",
    "print(combined)"
   ],
   "metadata": {
    "collapsed": false,
    "ExecuteTime": {
     "end_time": "2024-03-01T01:04:44.989434Z",
     "start_time": "2024-03-01T01:04:44.963406Z"
    }
   },
   "id": "4d24bacf91198c82",
   "execution_count": 37
  },
  {
   "cell_type": "code",
   "outputs": [
    {
     "name": "stdout",
     "output_type": "stream",
     "text": [
      "[[30 11 12 13]\n",
      " [40 14 15 16]\n",
      " [50 17 18 19]]\n"
     ]
    }
   ],
   "source": [
    "column = np.array([\n",
    "    [30],\n",
    "    [40],\n",
    "    [50]\n",
    "])\n",
    "columnCombined = np.hstack((column, myArray))\n",
    "print(columnCombined)"
   ],
   "metadata": {
    "collapsed": false,
    "ExecuteTime": {
     "end_time": "2024-03-01T01:14:33.055244Z",
     "start_time": "2024-03-01T01:14:33.006402Z"
    }
   },
   "id": "35db923d1d898e41",
   "execution_count": 42
  },
  {
   "cell_type": "code",
   "outputs": [
    {
     "name": "stdout",
     "output_type": "stream",
     "text": [
      "[[0. 0. 1.]\n",
      " [0. 0. 1.]]\n"
     ]
    }
   ],
   "source": [
    "myArray = np.zeros((2,2))\n",
    "column = np.ones((2,1))\n",
    "final = np.hstack((myArray, column))\n",
    "print(final)"
   ],
   "metadata": {
    "collapsed": false,
    "ExecuteTime": {
     "end_time": "2024-03-01T01:23:06.192811Z",
     "start_time": "2024-03-01T01:23:06.135788Z"
    }
   },
   "id": "eef2751c0fc092e2",
   "execution_count": 43
  },
  {
   "cell_type": "code",
   "outputs": [
    {
     "name": "stdout",
     "output_type": "stream",
     "text": [
      "[[2. 2. 2.]\n",
      " [2. 2. 2.]]\n"
     ]
    }
   ],
   "source": [
    "rows = np.full((2,3), 2.)\n",
    "print(rows)"
   ],
   "metadata": {
    "collapsed": false,
    "ExecuteTime": {
     "end_time": "2024-03-01T01:25:18.682652Z",
     "start_time": "2024-03-01T01:25:18.631639Z"
    }
   },
   "id": "6338a694eb71db21",
   "execution_count": 45
  },
  {
   "cell_type": "code",
   "outputs": [
    {
     "name": "stdout",
     "output_type": "stream",
     "text": [
      "[[0. 0. 1.]\n",
      " [0. 0. 1.]\n",
      " [2. 2. 2.]\n",
      " [2. 2. 2.]]\n"
     ]
    }
   ],
   "source": [
    "final = np.concatenate((final, rows))\n",
    "print(final)"
   ],
   "metadata": {
    "collapsed": false,
    "ExecuteTime": {
     "end_time": "2024-03-01T01:27:13.137412Z",
     "start_time": "2024-03-01T01:27:13.113025Z"
    }
   },
   "id": "97a1b55d6ce33dd6",
   "execution_count": 49
  },
  {
   "cell_type": "code",
   "outputs": [
    {
     "name": "stdout",
     "output_type": "stream",
     "text": [
      "[[0. 0.]\n",
      " [0. 0.]\n",
      " [2. 2.]\n",
      " [2. 2.]]\n"
     ]
    }
   ],
   "source": [
    "final = final[:4, :2]\n",
    "print(final)"
   ],
   "metadata": {
    "collapsed": false,
    "ExecuteTime": {
     "end_time": "2024-03-01T01:28:04.514494Z",
     "start_time": "2024-03-01T01:28:04.490066Z"
    }
   },
   "id": "f1be5be79ca74ba8",
   "execution_count": 50
  },
  {
   "cell_type": "code",
   "outputs": [
    {
     "name": "stdout",
     "output_type": "stream",
     "text": [
      "[[0. 0.]\n",
      " [0. 0.]\n",
      " [2. 2.]]\n"
     ]
    }
   ],
   "source": [
    "final = final[:3]\n",
    "print(final)"
   ],
   "metadata": {
    "collapsed": false,
    "ExecuteTime": {
     "end_time": "2024-03-01T01:28:25.351492Z",
     "start_time": "2024-03-01T01:28:25.110978Z"
    }
   },
   "id": "da364b6ab1a07488",
   "execution_count": 51
  },
  {
   "cell_type": "code",
   "outputs": [
    {
     "name": "stdout",
     "output_type": "stream",
     "text": [
      "[[1 3]\n",
      " [4 6]\n",
      " [9 7]]\n"
     ]
    }
   ],
   "source": [
    "myArray = np.matrix([[1, 2, 3], [4, 5, 6], [9, 8, 7]])\n",
    "myArray = myArray[:3, :3:2]\n",
    "print(myArray)"
   ],
   "metadata": {
    "collapsed": false,
    "ExecuteTime": {
     "end_time": "2024-03-01T03:15:06.945560Z",
     "start_time": "2024-03-01T03:15:06.919453Z"
    }
   },
   "id": "20f3a89aec80c303",
   "execution_count": 52
  },
  {
   "cell_type": "code",
   "outputs": [
    {
     "name": "stdout",
     "output_type": "stream",
     "text": [
      "[ 0 -1  2 -1  4 -1  6 -1  8 -1]\n"
     ]
    }
   ],
   "source": [
    "exercise_1 = np.array([0, 1, 2, 3, 4, 5, 6, 7, 8, 9])\n",
    "exercise_1[exercise_1%2==1] = -1\n",
    "print(exercise_1)"
   ],
   "metadata": {
    "collapsed": false,
    "ExecuteTime": {
     "end_time": "2024-03-01T03:31:55.124810Z",
     "start_time": "2024-03-01T03:31:54.761469Z"
    }
   },
   "id": "10d8be9b4af3e7c2",
   "execution_count": 58
  },
  {
   "cell_type": "code",
   "outputs": [
    {
     "name": "stdout",
     "output_type": "stream",
     "text": [
      "[[0 1 2]\n",
      " [3 4 5]\n",
      " [6 7 8]]\n"
     ]
    }
   ],
   "source": [
    "exercise_2 = np.array([0, 1, 2, 3, 4, 5, 6, 7, 8])\n",
    "exercise_2=exercise_2.reshape((3,3))\n",
    "print(exercise_2)"
   ],
   "metadata": {
    "collapsed": false,
    "ExecuteTime": {
     "end_time": "2024-03-01T03:38:12.605562Z",
     "start_time": "2024-03-01T03:38:12.571401Z"
    }
   },
   "id": "6663e0d9308ae119",
   "execution_count": 62
  },
  {
   "cell_type": "code",
   "outputs": [
    {
     "name": "stdout",
     "output_type": "stream",
     "text": [
      "[[202 203]\n",
      " [204 205]]\n"
     ]
    }
   ],
   "source": [
    "exercise_3 = np.arange(4).reshape(2,-1)\n",
    "exercise_3 += 202\n",
    "print(exercise_3)"
   ],
   "metadata": {
    "collapsed": false,
    "ExecuteTime": {
     "end_time": "2024-03-01T03:39:45.181677Z",
     "start_time": "2024-03-01T03:39:44.951870Z"
    }
   },
   "id": "bdf8d110d8a7bea9",
   "execution_count": 63
  },
  {
   "cell_type": "code",
   "outputs": [
    {
     "name": "stdout",
     "output_type": "stream",
     "text": [
      "[40 36 30 34 39 38 38 31 31 35]\n"
     ]
    }
   ],
   "source": [
    "exercise_4 = np.random.randint(30, 41, 10)\n",
    "print(exercise_4)"
   ],
   "metadata": {
    "collapsed": false,
    "ExecuteTime": {
     "end_time": "2024-03-01T03:41:28.286630Z",
     "start_time": "2024-03-01T03:41:27.795038Z"
    }
   },
   "id": "638913b3227b6230",
   "execution_count": 64
  },
  {
   "cell_type": "code",
   "outputs": [
    {
     "name": "stdout",
     "output_type": "stream",
     "text": [
      "(array([0]),)\n"
     ]
    }
   ],
   "source": [
    "x = np.array([21, 64, 86, 22, 74, 55, 81, 79, 90, 89])\n",
    "y = np.array([21, 7, 3, 45, 10, 29, 55, 4, 37, 18])\n",
    "z = np.where(x==y)\n",
    "print(z)"
   ],
   "metadata": {
    "collapsed": false,
    "ExecuteTime": {
     "end_time": "2024-03-01T04:05:18.647803Z",
     "start_time": "2024-03-01T04:05:18.593019Z"
    }
   },
   "id": "9f4dfc4dfcfe1b96",
   "execution_count": 70
  },
  {
   "cell_type": "code",
   "outputs": [
    {
     "name": "stdout",
     "output_type": "stream",
     "text": [
      "(array([1, 2, 4, 5, 6, 7, 8, 9]),)\n"
     ]
    }
   ],
   "source": [
    "k = np.where(x>y)\n",
    "print(k)"
   ],
   "metadata": {
    "collapsed": false,
    "ExecuteTime": {
     "end_time": "2024-03-01T04:06:13.648311Z",
     "start_time": "2024-03-01T04:06:13.593361Z"
    }
   },
   "id": "1ab27e019eaa385c",
   "execution_count": 71
  },
  {
   "cell_type": "code",
   "outputs": [
    {
     "name": "stdout",
     "output_type": "stream",
     "text": [
      "[[ 0  1  2  3]\n",
      " [20 21 22 23]\n",
      " [40 41 42 43]\n",
      " [60 61 62 63]\n",
      " [80 81 82 83]]\n"
     ]
    }
   ],
   "source": [
    "exercise_6 = np.arange(100).reshape(5,-1)\n",
    "exercise_6 = exercise_6[:5, :4]\n",
    "print(exercise_6)"
   ],
   "metadata": {
    "collapsed": false,
    "ExecuteTime": {
     "end_time": "2024-03-01T04:11:29.386758Z",
     "start_time": "2024-03-01T04:11:29.353534Z"
    }
   },
   "id": "f9efbe3d58f19d30",
   "execution_count": 76
  },
  {
   "cell_type": "code",
   "outputs": [],
   "source": [],
   "metadata": {
    "collapsed": false
   },
   "id": "f41e6fb3f841a032"
  }
 ],
 "metadata": {
  "kernelspec": {
   "display_name": "Python 3",
   "language": "python",
   "name": "python3"
  },
  "language_info": {
   "codemirror_mode": {
    "name": "ipython",
    "version": 2
   },
   "file_extension": ".py",
   "mimetype": "text/x-python",
   "name": "python",
   "nbconvert_exporter": "python",
   "pygments_lexer": "ipython2",
   "version": "2.7.6"
  }
 },
 "nbformat": 4,
 "nbformat_minor": 5
}
